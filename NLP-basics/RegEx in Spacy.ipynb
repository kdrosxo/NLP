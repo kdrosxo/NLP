{
 "cells": [
  {
   "cell_type": "code",
   "execution_count": 116,
   "id": "f8d2ea69",
   "metadata": {},
   "outputs": [],
   "source": [
    "import spacy"
   ]
  },
  {
   "cell_type": "code",
   "execution_count": 117,
   "id": "b0155c9a",
   "metadata": {},
   "outputs": [],
   "source": [
    "#Sample text\n",
    "text = \"This is a phone number (555) 555-5555\""
   ]
  },
  {
   "cell_type": "code",
   "execution_count": 118,
   "id": "950e8e4e",
   "metadata": {},
   "outputs": [],
   "source": [
    "#Build upon the spacy small model\n",
    "nlp = spacy.blank(\"en\")"
   ]
  },
  {
   "cell_type": "code",
   "execution_count": 119,
   "id": "25388690",
   "metadata": {},
   "outputs": [],
   "source": [
    "#Create the ruler and addit\n",
    "ruler = nlp.add_pipe(\"entity_ruler\")"
   ]
  },
  {
   "cell_type": "code",
   "execution_count": 120,
   "id": "dfee2180",
   "metadata": {},
   "outputs": [],
   "source": [
    "#List of Entities and Patterns\n",
    "patterns = [\n",
    "            {\"label\": \"PHONE_NUMBER\", \"pattern\": [{\"SHAPE\": \"ddd\"},\n",
    "            {\"ORTH\": \"-\", \"OP\": \"?\"}, {\"SHAPE\": \"dddd\"}]}\n",
    "            ]"
   ]
  },
  {
   "cell_type": "code",
   "execution_count": 121,
   "id": "404c8eec",
   "metadata": {},
   "outputs": [],
   "source": [
    "#add patterns to ruler\n",
    "ruler.add_patterns(patterns)"
   ]
  },
  {
   "cell_type": "code",
   "execution_count": 122,
   "id": "ebdb2397",
   "metadata": {},
   "outputs": [],
   "source": [
    "#create the doc\n",
    "doc = nlp(text)"
   ]
  },
  {
   "cell_type": "code",
   "execution_count": 123,
   "id": "bd9dfc38",
   "metadata": {},
   "outputs": [
    {
     "name": "stdout",
     "output_type": "stream",
     "text": [
      "555-5555 PHONE_NUMBER\n"
     ]
    }
   ],
   "source": [
    "#extract entities\n",
    "for ent in doc.ents:\n",
    "    print (ent.text, ent.label_)"
   ]
  },
  {
   "cell_type": "code",
   "execution_count": 124,
   "id": "d15f8572",
   "metadata": {},
   "outputs": [],
   "source": [
    "#With Regex way\n",
    "import re\n",
    "pattern = r\"((\\d){3}-(\\d){4})\""
   ]
  },
  {
   "cell_type": "code",
   "execution_count": 125,
   "id": "a1771b3f",
   "metadata": {},
   "outputs": [],
   "source": [
    "text = \"This is a phone number 555-5555.\""
   ]
  },
  {
   "cell_type": "code",
   "execution_count": 126,
   "id": "178a1f42",
   "metadata": {},
   "outputs": [],
   "source": [
    "matches = re.findall(pattern,text)"
   ]
  },
  {
   "cell_type": "code",
   "execution_count": 127,
   "id": "689849e9",
   "metadata": {},
   "outputs": [
    {
     "name": "stdout",
     "output_type": "stream",
     "text": [
      "[('555-5555', '5', '5')]\n"
     ]
    }
   ],
   "source": [
    "print (matches)"
   ]
  },
  {
   "cell_type": "code",
   "execution_count": 128,
   "id": "bf7b5788",
   "metadata": {},
   "outputs": [],
   "source": [
    "##COMBINE THE TWO"
   ]
  },
  {
   "cell_type": "code",
   "execution_count": 129,
   "id": "91ec4049",
   "metadata": {},
   "outputs": [],
   "source": [
    "#Import the requisite library\n",
    "import spacy\n",
    "\n",
    "#Sample text\n",
    "text = \"This is a phone number (555) 555-5555.\"\n",
    "\n",
    "#Build upon the spaCy Small Model\n",
    "nlp = spacy.blank(\"en\")\n",
    "\n",
    "#Create the Ruler and Add it\n",
    "ruler = nlp.add_pipe(\"entity_ruler\")\n",
    "\n",
    "#List of Entities and Patterns (source: https://spacy.io/usage/rule-based-matching)\n",
    "patterns = [\n",
    "                {\n",
    "                    \"label\": \"PHONE_NUMBER\", \"pattern\": [{\"TEXT\": {\"REGEX\": \"((\\d){3}-(\\d){4})\"}}\n",
    "                                                        ]\n",
    "                }\n",
    "            ]\n",
    "#add patterns to ruler\n",
    "ruler.add_patterns(patterns)\n",
    "\n",
    "\n",
    "#create the doc\n",
    "doc = nlp(text)\n",
    "\n",
    "#extract entities\n",
    "for ent in doc.ents:\n",
    "        print (ent.text, ent.label_)"
   ]
  },
  {
   "cell_type": "code",
   "execution_count": 130,
   "id": "c09aca37",
   "metadata": {},
   "outputs": [
    {
     "data": {
      "text/plain": [
       "'This is a phone number (555) 555-5555.'"
      ]
     },
     "execution_count": 130,
     "metadata": {},
     "output_type": "execute_result"
    }
   ],
   "source": [
    "doc.text"
   ]
  },
  {
   "cell_type": "markdown",
   "id": "483dbd19",
   "metadata": {},
   "source": [
    "## Multi- Word Tokens"
   ]
  },
  {
   "cell_type": "code",
   "execution_count": 131,
   "id": "d183223d",
   "metadata": {},
   "outputs": [],
   "source": [
    "import re\n",
    "import spacy\n",
    "from spacy.tokens import Span"
   ]
  },
  {
   "cell_type": "code",
   "execution_count": 132,
   "id": "43df22fb",
   "metadata": {},
   "outputs": [],
   "source": [
    "\n",
    "text = \"Paul Newman was an American actor, but Paul Hollywood is a British TV Host. The name Paul is quite common.\"\n",
    "pattern = r\"Paul [A-Z]\\w+\""
   ]
  },
  {
   "cell_type": "code",
   "execution_count": 133,
   "id": "4e5ea180",
   "metadata": {},
   "outputs": [],
   "source": [
    "nlp = spacy.blank(\"en\")\n",
    "doc = nlp(text)"
   ]
  },
  {
   "cell_type": "code",
   "execution_count": 134,
   "id": "f487796e",
   "metadata": {},
   "outputs": [],
   "source": [
    "original_ents = list(doc.ents)"
   ]
  },
  {
   "cell_type": "code",
   "execution_count": 135,
   "id": "5184d59f",
   "metadata": {},
   "outputs": [],
   "source": [
    "mwt_ents = []\n",
    "for match in re.finditer(pattern, doc.text):\n",
    "    start, end = match.span()\n",
    "    span = doc.char_span(start, end)\n",
    "    if span is not None:\n",
    "        mwt_ents.append((span.start, span.end, span.text))\n"
   ]
  },
  {
   "cell_type": "code",
   "execution_count": 136,
   "id": "bc640121",
   "metadata": {},
   "outputs": [
    {
     "name": "stdout",
     "output_type": "stream",
     "text": [
      "[(0, 2, 'Paul Newman'), (8, 10, 'Paul Hollywood')]\n"
     ]
    }
   ],
   "source": [
    "print(mwt_ents)"
   ]
  },
  {
   "cell_type": "markdown",
   "id": "6e13bb47",
   "metadata": {},
   "source": [
    "### Inject the Spans into the doc.ents"
   ]
  },
  {
   "cell_type": "code",
   "execution_count": 137,
   "id": "60c37375",
   "metadata": {},
   "outputs": [
    {
     "name": "stdout",
     "output_type": "stream",
     "text": [
      "Paul Newman PERSON\n",
      "Paul Hollywood PERSON\n"
     ]
    }
   ],
   "source": [
    "for ent in mwt_ents:\n",
    "    start,end,name = ent\n",
    "    per_ent = Span(doc,start,end,label = \"PERSON\")\n",
    "    original_ents.append(per_ent)\n",
    "doc.ents = original_ents\n",
    "for ent in doc.ents:\n",
    "    print(ent.text,ent.label_)"
   ]
  },
  {
   "cell_type": "code",
   "execution_count": 138,
   "id": "8947bddb",
   "metadata": {},
   "outputs": [],
   "source": [
    "## Create all the above as an entity ruler"
   ]
  },
  {
   "cell_type": "code",
   "execution_count": 142,
   "id": "b31d9c5d",
   "metadata": {},
   "outputs": [],
   "source": [
    "from spacy import Language\n",
    "pattern = r\"Paul [A-Z]\\w+\"\n",
    "@Language.component(\"paul_entity\")\n",
    "def paul_entity(doc):\n",
    "    original_ents = list(doc.ents)\n",
    "    mwt_ents = []\n",
    "    for match in re.finditer(pattern, doc.text):\n",
    "        start, end = match.span()\n",
    "        span = doc.char_span(start, end)\n",
    "        if span is not None:\n",
    "            mwt_ents.append((span.start, span.end, span.text))\n",
    "    for ent in mwt_ents:\n",
    "        start,end,name = ent\n",
    "        per_ent = Span(doc,start,end,label = \"PERSON\")\n",
    "        original_ents.append(per_ent)\n",
    "    doc.ents = original_ents\n",
    "    return(doc)\n"
   ]
  },
  {
   "cell_type": "code",
   "execution_count": 143,
   "id": "0c242e1e",
   "metadata": {},
   "outputs": [
    {
     "data": {
      "text/plain": [
       "<function __main__.paul_entity(doc)>"
      ]
     },
     "execution_count": 143,
     "metadata": {},
     "output_type": "execute_result"
    }
   ],
   "source": [
    "nlp2 = spacy.blank(\"en\") #insert into blank model\n",
    "nlp2.add_pipe(\"paul_entity\")"
   ]
  },
  {
   "cell_type": "code",
   "execution_count": 144,
   "id": "d69e6026",
   "metadata": {},
   "outputs": [
    {
     "name": "stdout",
     "output_type": "stream",
     "text": [
      "(Paul Newman, Paul Hollywood)\n"
     ]
    }
   ],
   "source": [
    "doc2 = nlp2(text)\n",
    "print(doc2.ents)"
   ]
  },
  {
   "cell_type": "code",
   "execution_count": null,
   "id": "6d22f9a2",
   "metadata": {},
   "outputs": [],
   "source": []
  }
 ],
 "metadata": {
  "kernelspec": {
   "display_name": "Python 3 (ipykernel)",
   "language": "python",
   "name": "python3"
  },
  "language_info": {
   "codemirror_mode": {
    "name": "ipython",
    "version": 3
   },
   "file_extension": ".py",
   "mimetype": "text/x-python",
   "name": "python",
   "nbconvert_exporter": "python",
   "pygments_lexer": "ipython3",
   "version": "3.9.12"
  }
 },
 "nbformat": 4,
 "nbformat_minor": 5
}
